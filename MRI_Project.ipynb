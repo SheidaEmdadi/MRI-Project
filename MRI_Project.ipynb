{
  "cells": [
    {
      "cell_type": "code",
      "execution_count": 5,
      "metadata": {
        "id": "G8VzgkL4lCZZ"
      },
      "outputs": [],
      "source": [
        "import numpy as np\n",
        "import matplotlib.pyplot as plt\n",
        "from scipy.ndimage import gaussian_filter"
      ]
    },
    {
      "cell_type": "markdown",
      "metadata": {
        "id": "rdw8sQZk_VmQ"
      },
      "source": [
        "# Q1: what are the j, l, x, and m in the fjHead? and how to generate them?\n",
        "\n"
      ]
    },
    {
      "cell_type": "code",
      "execution_count": 17,
      "metadata": {
        "id": "X7YjRHqOWNRz"
      },
      "outputs": [],
      "source": [
        "# According to the paper:\n",
        "\n",
        "m = 8\n",
        "l = 2\n",
        "d = 3"
      ]
    },
    {
      "cell_type": "markdown",
      "metadata": {
        "id": "d4T1juVTfbE-"
      },
      "source": [
        "Defining our sampled data."
      ]
    },
    {
      "cell_type": "code",
      "execution_count": 2,
      "metadata": {
        "id": "Dsk5cjttfYlS"
      },
      "outputs": [],
      "source": [
        "# Solid lines\n",
        "a = [-0.01097201305, -0.02819949502, -0.01753561254, 0.04431120359, 0.1459885419, 0.2422379845, 0.2301496146, 0.3940197759]\n"
      ]
    },
    {
      "cell_type": "code",
      "execution_count": null,
      "metadata": {
        "colab": {
          "base_uri": "https://localhost:8080/",
          "height": 210
        },
        "id": "206iw3FJ5WtG",
        "outputId": "5ea34674-2104-42c4-9f16-fc394c12ee70"
      },
      "outputs": [],
      "source": [
        "fjHead = [0]\n",
        "\n",
        "# How to define 'x'? Does this approach make sense?\n",
        "\n",
        "for j in range (m):\n",
        "  for x in range (m):\n",
        "    fjHead[j] = np.square((np.sinc(np.pi*j*l*x)/m))"
      ]
    },
    {
      "cell_type": "markdown",
      "metadata": {
        "id": "Z3m-s4w0cPIg"
      },
      "source": [
        "#How to generate our k-space?"
      ]
    },
    {
      "cell_type": "code",
      "execution_count": null,
      "metadata": {
        "colab": {
          "base_uri": "https://localhost:8080/",
          "height": 564
        },
        "id": "X4gCtWyXATZX",
        "outputId": "947a0655-473f-4802-fd65-825c11681268"
      },
      "outputs": [
        {
          "data": {
            "image/png": "[encoded data removed]",
            "text/plain": [
              "<Figure size 600x600 with 1 Axes>"
            ]
          },
          "metadata": {},
          "output_type": "display_data"
        }
      ],
      "source": [
        "# Parameters\n",
        "num_points = 200  # Number of sampling points\n",
        "r_max = 1.0  # Maximum radius of the spiral\n",
        "theta_max = 8 * np.pi  # Maximum angular range\n",
        "k_space_scaling = 0.5  # Scaling factor for k-space\n",
        "\n",
        "# Generate the spiral trajectory\n",
        "theta = np.linspace(0, theta_max, num_points)\n",
        "r = np.linspace(0, r_max, num_points)\n",
        "k_x = r * np.cos(theta) * k_space_scaling\n",
        "k_y = r * np.sin(theta) * k_space_scaling\n",
        "\n",
        "# Create a plot\n",
        "plt.figure(figsize=(6, 6))\n",
        "plt.title(\"Spiral EPI Trajectory\")\n",
        "plt.plot(k_x, k_y, 'b.')\n",
        "plt.xlabel('k_x')\n",
        "plt.ylabel('k_y')\n",
        "plt.grid(True)\n",
        "\n",
        "plt.axis('equal')  # Set equal scaling for x and y axes\n",
        "\n",
        "# Display the trajectory\n",
        "plt.show()"
      ]
    },
    {
      "cell_type": "code",
      "execution_count": null,
      "metadata": {
        "id": "rEnHfSAaATtf"
      },
      "outputs": [],
      "source": []
    },
    {
      "cell_type": "markdown",
      "metadata": {
        "id": "dPW-Bg0u2ht_"
      },
      "source": [
        "Kernel"
      ]
    },
    {
      "cell_type": "markdown",
      "metadata": {
        "id": "CNH72pwAcaN2"
      },
      "source": [
        "# Does our kernel have something to do with guassian kernel?"
      ]
    },
    {
      "cell_type": "code",
      "execution_count": null,
      "metadata": {
        "colab": {
          "base_uri": "https://localhost:8080/",
          "height": 245
        },
        "id": "WSnr0-mc2kXe",
        "outputId": "a9270c44-b5ab-4839-c6db-40d53b9c2521"
      },
      "outputs": [],
      "source": [
        "# Question: How to declare 'a'?\n",
        "# Answer: 'a1,...,an' is our decision variables, which is defined in the first sections of this notebook.\n",
        "\n",
        "# Question: How to declare 'f'?\n",
        "\n",
        "f = []\n",
        "for j in range (m):\n",
        "  for x in range (m):\n",
        "    if np.abs(x) < ((j * l) / m):\n",
        "      f[j] = (np.square(m)/ (np.square(j) * np.square(l))) * np.abs(np.abs(x) - ((j * l) / m))\n",
        "    else:\n",
        "      f[j] = 0\n",
        "\n",
        "# Does it make sense to use these for loops?\n",
        "\n",
        "\n",
        "arr = []\n",
        "\n",
        "# Kernel function\n",
        "for j in range (m) :\n",
        "  arr[j] = a[j] * f[j]\n",
        "  f = np.sum(arr)\n",
        "\n",
        "# With transfer function\n",
        "for j in range (m) :\n",
        "  arr[j] = a[j] * fHead[j]\n",
        "  fHead = np.sum(arr)"
      ]
    },
    {
      "cell_type": "markdown",
      "metadata": {
        "id": "70pVzuoS2k_w"
      },
      "source": [
        "Sampled Data"
      ]
    },
    {
      "cell_type": "markdown",
      "metadata": {
        "id": "LME-Folq9lSp"
      },
      "source": [
        "#Q2: How to generate our Signal 's', that we need to calculate its delta?"
      ]
    },
    {
      "cell_type": "code",
      "execution_count": null,
      "metadata": {
        "id": "DNEnn02V2m51"
      },
      "outputs": [],
      "source": [
        "# s: V -> C represent the signal we want to reconstruct.\n",
        "\n",
        "# s =\n",
        "\n",
        "# g : VHead -> C represent the Fourier transform of that signal\n",
        "\n",
        "g = np.fft(s)\n",
        "\n",
        "# note1: We need to generate 's' then calculate the delta of that\n",
        "# note2: we sample 'g' at a finite set, G in VHead , of frequencies.\n",
        "\n",
        "# Question: should 'g' bounds be the same with 's'? and what are the bounds of 's'?\n",
        "\n",
        "gHead = np.sum(delta(s) * g)"
      ]
    },
    {
      "cell_type": "markdown",
      "metadata": {
        "id": "k7DASVzH2nf2"
      },
      "source": [
        "What we want to do:"
      ]
    },
    {
      "cell_type": "code",
      "execution_count": null,
      "metadata": {
        "id": "92jETZ732pzh"
      },
      "outputs": [],
      "source": [
        "# We need to calculate delta s.\n",
        "# Question: Suppose we have generated 's'. What is the delta of 's'? Do we have specific points or that is just the difference between the min and the max?\n",
        "\n",
        "reconstruct = np.ifft(f) * (np.convolve (np.ifft(np.sum(delta(s))), np.ifft(g)))"
      ]
    }
  ],
  "metadata": {
    "colab": {
      "provenance": []
    },
    "kernelspec": {
      "display_name": "Python 3",
      "name": "python3"
    },
    "language_info": {
      "name": "python"
    }
  },
  "nbformat": 4,
  "nbformat_minor": 0
}
